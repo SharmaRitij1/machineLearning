{
 "cells": [
  {
   "cell_type": "markdown",
   "id": "8943b5f1-09ab-426f-93f7-807b13c455b7",
   "metadata": {
    "tags": []
   },
   "source": [
    "## Increasing Training Set Size Experiment: Consider the iris dataset for multiclass classification and perform the following steps.\n",
    "1. Divide the data into 80% training and 20% testing.\n",
    "2. From the training set only take 5% of the data and train the supervised learning models (Logistic Regression,\n",
    "Decision Trees, Random Forest, and Naive Bayes) and test it on the test set created in the previous step.\n",
    "3. Repeat the training again with now 10% of the data and keep on adding the 5% until you use the whole training set.\n",
    "4. In every training test on the 20% of the test set and report the accuracy and f1-score of the model.\n",
    "5. Plot the sample graph for accuracy and f1-score as provided below:"
   ]
  },
  {
   "cell_type": "code",
   "execution_count": 1,
   "id": "9963c5cf-003c-43c8-97e4-28feb4d91543",
   "metadata": {},
   "outputs": [],
   "source": [
    "# importing the required libraries\n",
    "\n",
    "from sklearn.datasets import load_iris\n",
    "from sklearn.model_selection import train_test_split\n",
    "from sklearn.linear_model import LogisticRegression\n",
    "from sklearn.tree import DecisionTreeClassifier\n",
    "from sklearn.ensemble import RandomForestClassifier\n",
    "from sklearn.naive_bayes import GaussianNB\n",
    "from sklearn.metrics import accuracy_score, f1_score\n",
    "import matplotlib.pyplot as plt\n",
    "import numpy as np\n",
    "from sklearn.cluster import KMeans"
   ]
  },
  {
   "cell_type": "code",
   "execution_count": 2,
   "id": "b9946a80-f112-470e-9a64-6c25293015b6",
   "metadata": {},
   "outputs": [
    {
     "name": "stderr",
     "output_type": "stream",
     "text": [
      "C:\\Users\\ritij\\anaconda3\\lib\\site-packages\\sklearn\\linear_model\\_logistic.py:458: ConvergenceWarning: lbfgs failed to converge (status=1):\n",
      "STOP: TOTAL NO. of ITERATIONS REACHED LIMIT.\n",
      "\n",
      "Increase the number of iterations (max_iter) or scale the data as shown in:\n",
      "    https://scikit-learn.org/stable/modules/preprocessing.html\n",
      "Please also refer to the documentation for alternative solver options:\n",
      "    https://scikit-learn.org/stable/modules/linear_model.html#logistic-regression\n",
      "  n_iter_i = _check_optimize_result(\n",
      "C:\\Users\\ritij\\anaconda3\\lib\\site-packages\\sklearn\\linear_model\\_logistic.py:458: ConvergenceWarning: lbfgs failed to converge (status=1):\n",
      "STOP: TOTAL NO. of ITERATIONS REACHED LIMIT.\n",
      "\n",
      "Increase the number of iterations (max_iter) or scale the data as shown in:\n",
      "    https://scikit-learn.org/stable/modules/preprocessing.html\n",
      "Please also refer to the documentation for alternative solver options:\n",
      "    https://scikit-learn.org/stable/modules/linear_model.html#logistic-regression\n",
      "  n_iter_i = _check_optimize_result(\n",
      "C:\\Users\\ritij\\anaconda3\\lib\\site-packages\\sklearn\\linear_model\\_logistic.py:458: ConvergenceWarning: lbfgs failed to converge (status=1):\n",
      "STOP: TOTAL NO. of ITERATIONS REACHED LIMIT.\n",
      "\n",
      "Increase the number of iterations (max_iter) or scale the data as shown in:\n",
      "    https://scikit-learn.org/stable/modules/preprocessing.html\n",
      "Please also refer to the documentation for alternative solver options:\n",
      "    https://scikit-learn.org/stable/modules/linear_model.html#logistic-regression\n",
      "  n_iter_i = _check_optimize_result(\n"
     ]
    },
    {
     "name": "stdout",
     "output_type": "stream",
     "text": [
      "Model\t\tTrain Size\tAccuracy\tF1 Score\n",
      "Logistic Regression\t0.05\t\t0.73\t\t0.68\n",
      "Decision Tree\t0.05\t\t0.70\t\t0.70\n",
      "Random Forest\t0.05\t\t0.67\t\t0.65\n",
      "Naive Bayes\t0.05\t\t0.33\t\t0.17\n",
      "Logistic Regression\t0.10\t\t0.67\t\t0.65\n",
      "Decision Tree\t0.10\t\t0.90\t\t0.89\n",
      "Random Forest\t0.10\t\t0.97\t\t0.97\n",
      "Naive Bayes\t0.10\t\t0.60\t\t0.49\n",
      "Logistic Regression\t0.15\t\t1.00\t\t1.00\n",
      "Decision Tree\t0.15\t\t1.00\t\t1.00\n",
      "Random Forest\t0.15\t\t1.00\t\t1.00\n",
      "Naive Bayes\t0.15\t\t0.93\t\t0.93\n",
      "Logistic Regression\t0.20\t\t0.97\t\t0.97\n",
      "Decision Tree\t0.20\t\t1.00\t\t1.00\n",
      "Random Forest\t0.20\t\t1.00\t\t1.00\n",
      "Naive Bayes\t0.20\t\t1.00\t\t1.00\n",
      "Logistic Regression\t0.25\t\t0.97\t\t0.97\n",
      "Decision Tree\t0.25\t\t1.00\t\t1.00\n",
      "Random Forest\t0.25\t\t1.00\t\t1.00\n",
      "Naive Bayes\t0.25\t\t1.00\t\t1.00\n",
      "Logistic Regression\t0.30\t\t0.97\t\t0.97\n",
      "Decision Tree\t0.30\t\t0.97\t\t0.97\n",
      "Random Forest\t0.30\t\t0.97\t\t0.97\n",
      "Naive Bayes\t0.30\t\t1.00\t\t1.00\n",
      "Logistic Regression\t0.35\t\t1.00\t\t1.00\n",
      "Decision Tree\t0.35\t\t0.97\t\t0.97\n",
      "Random Forest\t0.35\t\t0.97\t\t0.97\n",
      "Naive Bayes\t0.35\t\t1.00\t\t1.00\n",
      "Logistic Regression\t0.40\t\t1.00\t\t1.00\n",
      "Decision Tree\t0.40\t\t0.97\t\t0.97\n",
      "Random Forest\t0.40\t\t0.97\t\t0.97\n",
      "Naive Bayes\t0.40\t\t1.00\t\t1.00\n",
      "Logistic Regression\t0.45\t\t1.00\t\t1.00\n",
      "Decision Tree\t0.45\t\t0.97\t\t0.97\n",
      "Random Forest\t0.45\t\t0.97\t\t0.97\n",
      "Naive Bayes\t0.45\t\t0.97\t\t0.97\n",
      "Logistic Regression\t0.50\t\t1.00\t\t1.00\n",
      "Decision Tree\t0.50\t\t0.97\t\t0.97\n",
      "Random Forest\t0.50\t\t1.00\t\t1.00\n",
      "Naive Bayes\t0.50\t\t1.00\t\t1.00\n",
      "Logistic Regression\t0.55\t\t1.00\t\t1.00\n",
      "Decision Tree\t0.55\t\t0.97\t\t0.97\n",
      "Random Forest\t0.55\t\t1.00\t\t1.00\n",
      "Naive Bayes\t0.55\t\t1.00\t\t1.00\n",
      "Logistic Regression\t0.60\t\t1.00\t\t1.00\n",
      "Decision Tree\t0.60\t\t0.97\t\t0.97\n",
      "Random Forest\t0.60\t\t1.00\t\t1.00\n",
      "Naive Bayes\t0.60\t\t1.00\t\t1.00\n",
      "Logistic Regression\t0.65\t\t1.00\t\t1.00\n",
      "Decision Tree\t0.65\t\t1.00\t\t1.00\n",
      "Random Forest\t0.65\t\t1.00\t\t1.00\n",
      "Naive Bayes\t0.65\t\t1.00\t\t1.00\n",
      "Logistic Regression\t0.70\t\t1.00\t\t1.00\n",
      "Decision Tree\t0.70\t\t1.00\t\t1.00\n",
      "Random Forest\t0.70\t\t1.00\t\t1.00\n",
      "Naive Bayes\t0.70\t\t1.00\t\t1.00\n",
      "Logistic Regression\t0.75\t\t1.00\t\t1.00\n",
      "Decision Tree\t0.75\t\t1.00\t\t1.00\n",
      "Random Forest\t0.75\t\t1.00\t\t1.00\n",
      "Naive Bayes\t0.75\t\t1.00\t\t1.00\n",
      "Logistic Regression\t0.80\t\t1.00\t\t1.00\n",
      "Decision Tree\t0.80\t\t1.00\t\t1.00\n",
      "Random Forest\t0.80\t\t1.00\t\t1.00\n",
      "Naive Bayes\t0.80\t\t1.00\t\t1.00\n"
     ]
    }
   ],
   "source": [
    "# Load iris dataset\n",
    "iris = load_iris()\n",
    "X = iris.data\n",
    "y = iris.target\n",
    "\n",
    "# Divide data into 80% training and 20% testing\n",
    "X_train, X_test, y_train, y_test = train_test_split(X, y, test_size=0.2, random_state=42)\n",
    "\n",
    "# Define models\n",
    "models = {\n",
    "    'Logistic Regression': LogisticRegression(),\n",
    "    'Decision Tree': DecisionTreeClassifier(),\n",
    "    'Random Forest': RandomForestClassifier(),\n",
    "    'Naive Bayes': GaussianNB()\n",
    "}\n",
    "\n",
    "# Train and test models with increasing training set sizes\n",
    "train_sizes = [0.05, 0.1, 0.15, 0.2, 0.25, 0.3, 0.35, 0.4, 0.45, 0.5, 0.55, 0.6, 0.65, 0.7, 0.75, 0.8]\n",
    "results = []\n",
    "for train_size in train_sizes:\n",
    "    # Take a subset of the training set\n",
    "    n = int(train_size * len(X_train))\n",
    "    X_train_subset = X_train[:n]\n",
    "    y_train_subset = y_train[:n]\n",
    "\n",
    "    # Train models\n",
    "    for name, model in models.items():\n",
    "        model.fit(X_train_subset, y_train_subset)\n",
    "\n",
    "        # Test models on the test set\n",
    "        y_pred = model.predict(X_test)\n",
    "        accuracy = accuracy_score(y_test, y_pred)\n",
    "        f1 = f1_score(y_test, y_pred, average='macro')\n",
    "\n",
    "        # Record results\n",
    "        results.append((name, train_size, accuracy, f1))\n",
    "\n",
    "# Print results\n",
    "print('Model\\t\\tTrain Size\\tAccuracy\\tF1 Score')\n",
    "for name, train_size, accuracy, f1 in results:\n",
    "    print(f'{name}\\t{train_size:.2f}\\t\\t{accuracy:.2f}\\t\\t{f1:.2f}')\n"
   ]
  },
  {
   "cell_type": "markdown",
   "id": "b9ea6052-e0c7-4e06-bd40-4cbd56766c14",
   "metadata": {},
   "source": [
    "This code will train the supervised learning models (Logistic Regression, Decision Trees, Random Forest, and Naive Bayes) on increasing sizes of the training set, starting with 5% and ending with the entire training set, and test each model on the fixed 20% test set."
   ]
  },
  {
   "cell_type": "code",
   "execution_count": 3,
   "id": "1f596037-a581-44cc-af9e-2b0a202e52a4",
   "metadata": {},
   "outputs": [
    {
     "data": {
      "image/png": "[encoded data removed]",
      "text/plain": [
       "<Figure size 432x288 with 1 Axes>"
      ]
     },
     "metadata": {
      "needs_background": "light"
     },
     "output_type": "display_data"
    },
    {
     "data": {
      "image/png": "[encoded data removed]",
      "text/plain": [
       "<Figure size 432x288 with 1 Axes>"
      ]
     },
     "metadata": {
      "needs_background": "light"
     },
     "output_type": "display_data"
    }
   ],
   "source": [
    "# Separate results by model\n",
    "model_results = {}\n",
    "for name, train_size, accuracy, f1 in results:\n",
    "    if name not in model_results:\n",
    "        model_results[name] = ([], [])\n",
    "    model_results[name][0].append(train_size)\n",
    "    model_results[name][1].append(accuracy)\n",
    "    \n",
    "# Create line plots for each model\n",
    "for name, (train_sizes, accuracies) in model_results.items():\n",
    "    plt.plot(train_sizes, accuracies, label=name)\n",
    "\n",
    "# Set plot labels and legend\n",
    "plt.xlabel('Training Set Size')\n",
    "plt.ylabel('Accuracy')\n",
    "plt.title('Accuracy vs Training Set Size')\n",
    "plt.legend()\n",
    "\n",
    "# Display plot\n",
    "plt.show()\n",
    "\n",
    "# Create line plots for each model\n",
    "model_results = {}\n",
    "for name, train_size, accuracy, f1 in results:\n",
    "    if name not in model_results:\n",
    "        model_results[name] = ([], [])\n",
    "    model_results[name][0].append(train_size)\n",
    "    model_results[name][1].append(f1)\n",
    "    \n",
    "# Create line plots for each model\n",
    "for name, (train_sizes, f1_scores) in model_results.items():\n",
    "    plt.plot(train_sizes, f1_scores, label=name)\n",
    "\n",
    "# Set plot labels and legend\n",
    "plt.xlabel('Training Set Size')\n",
    "plt.ylabel('F1 Score')\n",
    "plt.title('F1 Score vs Training Set Size')\n",
    "plt.legend()\n",
    "\n",
    "# Display plot\n",
    "plt.show()"
   ]
  },
  {
   "cell_type": "code",
   "execution_count": null,
   "id": "ad91701c-951d-42a7-9323-3dcb2fd67603",
   "metadata": {},
   "outputs": [],
   "source": []
  },
  {
   "cell_type": "markdown",
   "id": "aec00e42-f95b-476c-8cf9-696245127486",
   "metadata": {},
   "source": [
    "## Linear Regression: Consider the following N data points (N=10):\n",
    "                X = [ −1.4 , −1.6 , −1.3 , 0 . 2 , 2 . 0 , −1.1 , 0 . 0 , 0 . 3 , −0.9 , −1.8]\n",
    "                r = [ 6 . 9 , 7 . 8 , 8 . 0 , 5 . 8 , 1 . 9 , 7 . 3 , 5 . 8 , 5 . 8 , 8 . 2 , 9 . 6 ]\n",
    "        \n",
    "Note that these data points are ordered, so that (X1,r1) = (−1.3,6.9) and (X10,r10) = (−1.8,9.6). For the above data points, fit a linear regression model, f(x) = w0 +w1x, by estimating the values of w0 and w1, so that ri = f(Xi) +εi.\n",
    "\n",
    "- Compute root mean squared error (RMSE) and median absolute error (MAE) values for given training data set (X,r).\n",
    "- What are the linear regression model predictions for the following test data?\n",
    "    Z = [ −0.6 , 1 . 8 , −0.1 , 1 . 1 , −1.7]\n",
    "- Consider the following values to be true labels for data points Z.\n",
    "    u = [ 5 . 1 , −0.2 , 6 . 5 , 2 . 2 , 8 . 3 ]\n",
    "\n"
   ]
  },
  {
   "cell_type": "code",
   "execution_count": 4,
   "id": "5f9a2fb3-59d0-4050-805c-85d5f5e9e83b",
   "metadata": {},
   "outputs": [
    {
     "name": "stdout",
     "output_type": "stream",
     "text": [
      "w0 = 5.77\n",
      "w1 = -1.68\n",
      "f(x) = 5.77-1.68x\n"
     ]
    }
   ],
   "source": [
    "# Given data points\n",
    "X = np.array([-1.4, -1.6, -1.3, 0.2, 2.0, -1.1, 0.0, 0.3, -0.9, -1.8])\n",
    "r = np.array([6.9, 7.8, 8.0, 5.8, 1.9, 7.3, 5.8, 5.8, 8.2, 9.6])\n",
    "\n",
    "# Calculate mean of X and r\n",
    "X_bar = np.mean(X)\n",
    "r_bar = np.mean(r)\n",
    "\n",
    "# Calculate w1\n",
    "numerator = np.sum(X * r) - (len(X) * X_bar * r_bar)\n",
    "denominator = np.sum(X**2) - (len(X) * X_bar**2)\n",
    "w1 = numerator / denominator\n",
    "\n",
    "# Calculate w0\n",
    "w0 = r_bar - (w1 * X_bar)\n",
    "\n",
    "# Print values of w0 and w1\n",
    "print(f\"w0 = {w0:.2f}\")\n",
    "print(f\"w1 = {w1:.2f}\")\n",
    "print(f\"f(x) = {w0:.2f}{w1:.2f}x\")"
   ]
  },
  {
   "cell_type": "code",
   "execution_count": 5,
   "id": "3b2e45d0-b508-4919-a5f7-173d04d85283",
   "metadata": {},
   "outputs": [
    {
     "data": {
      "image/png": "[encoded data removed]",
      "text/plain": [
       "<Figure size 432x288 with 1 Axes>"
      ]
     },
     "metadata": {
      "needs_background": "light"
     },
     "output_type": "display_data"
    }
   ],
   "source": [
    "# Scatter plot of data points\n",
    "plt.scatter(X, r)\n",
    "\n",
    "# Plot the linear regression line\n",
    "x_values = np.array([min(X), max(X)])\n",
    "y_values = w0 + w1 * x_values\n",
    "plt.plot(x_values, y_values, color='red')\n",
    "\n",
    "# Add axis labels and title\n",
    "plt.xlabel('X')\n",
    "plt.ylabel('r')\n",
    "plt.title('Linear Regression')\n",
    "plt.show()\n"
   ]
  },
  {
   "cell_type": "markdown",
   "id": "f43fc9d1-6100-4b5c-ae97-26f5d48739e1",
   "metadata": {},
   "source": [
    "To compute the root mean squared error (RMSE) and median absolute error (MAE) values for the given training dataset (X,r), we need to first compute the predicted values of ri using the linear regression model that we estimated in the previous question. Then, we can compute the errors ei as the difference between the predicted values and the actual values of ri."
   ]
  },
  {
   "cell_type": "code",
   "execution_count": 6,
   "id": "d2aa21db-38ec-4460-805e-6cccd9b817b3",
   "metadata": {},
   "outputs": [
    {
     "name": "stdout",
     "output_type": "stream",
     "text": [
      "RMSE =  0.648223478278935\n",
      "MAE =  0.5210125160462125\n"
     ]
    }
   ],
   "source": [
    "# Compute predicted values of ri using the linear regression model\n",
    "ri_pred = w0 + w1 * X\n",
    "\n",
    "# Compute the errors\n",
    "ei = ri_pred - r\n",
    "\n",
    "# Compute the root mean squared error (RMSE)\n",
    "N = len(X)\n",
    "rmse = np.sqrt(np.sum(ei ** 2) / N)\n",
    "print(\"RMSE = \", rmse)\n",
    "\n",
    "# Compute the median absolute error (MAE)\n",
    "mae = np.median(np.abs(ei))\n",
    "print(\"MAE = \", mae)\n"
   ]
  },
  {
   "cell_type": "code",
   "execution_count": 7,
   "id": "296eff3a-1db5-4b17-8584-49f64ccbf3b0",
   "metadata": {},
   "outputs": [
    {
     "name": "stdout",
     "output_type": "stream",
     "text": [
      "Predicted values of r for the test data: [6.77724647 2.74245828 5.9366656  3.9192715  8.62652439]\n",
      "f(z1) = 6.777246469833118\n",
      "f(z2) = 2.742458279845953\n",
      "f(z3) = 5.936665596919125\n",
      "f(z4) = 3.919271501925543\n",
      "f(z5) = 8.626524390243903\n"
     ]
    }
   ],
   "source": [
    "# Define the test data\n",
    "Z = np.array([-0.6, 1.8, -0.1, 1.1, -1.7])\n",
    "\n",
    "# Compute the predicted values of r for the test data\n",
    "r_pred = w0 + w1 * Z\n",
    "\n",
    "# Print the predicted values of r for the test data\n",
    "print(\"Predicted values of r for the test data:\", r_pred)\n",
    "\n",
    "# Print the predicted values of r for the test data\n",
    "for i in range(len(Z)):\n",
    "    print(f\"f(z{i+1}) = {r_pred[i]}\")"
   ]
  },
  {
   "cell_type": "markdown",
   "id": "76b99eb4-773c-4004-822a-ea8dd255fdf2",
   "metadata": {},
   "source": [
    "To compute the RMSE and MAE values for the given test data set (Z,u), we need to first compute the predicted values of u using the linear regression model f(x) = w0 + w1*x and then compute the errors between the predicted values and the true labels. "
   ]
  },
  {
   "cell_type": "code",
   "execution_count": 8,
   "id": "d91baefd-bccc-40cb-8c77-8ac12db029ae",
   "metadata": {},
   "outputs": [
    {
     "name": "stdout",
     "output_type": "stream",
     "text": [
      "RMSE = 1.7234311575258012\n",
      "MAE = 1.6772464698331184\n"
     ]
    }
   ],
   "source": [
    "# Define the true labels for the test data set\n",
    "u = np.array([5.1, -0.2, 6.5, 2.2, 8.3])\n",
    "\n",
    "# Compute the predicted values of u for the test data using the linear regression model\n",
    "u_pred = w0 + w1 * Z\n",
    "\n",
    "# Compute the errors between the predicted values and the true labels\n",
    "errors = u_pred - u\n",
    "\n",
    "# Compute the RMSE and MAE values\n",
    "rmse = np.sqrt(np.mean(errors**2))\n",
    "mae = np.median(np.abs(errors))\n",
    "\n",
    "# Print the RMSE and MAE values\n",
    "print(\"RMSE =\", rmse)\n",
    "print(\"MAE =\", mae)\n"
   ]
  },
  {
   "cell_type": "code",
   "execution_count": null,
   "id": "6c282874-9789-45aa-98a6-eff8aeeef581",
   "metadata": {},
   "outputs": [],
   "source": []
  },
  {
   "cell_type": "markdown",
   "id": "3e325fa2-ed9d-4dd3-962a-589c75ec6bd5",
   "metadata": {},
   "source": [
    "K-Means Clustering: Consider the 30 data points and their corresponding class labels stored in a dictionary named “data_dict”.\n",
    "d a t a_dic t = { ( 2 . 0 , 3. 4 3 , 4 . 3 7 ) : 2 , ( 2 . 4 9 , 4. 2 8 , 4 . 8 3 ) : 2 , ( 2 . 5 8 , 4. 3 6 , 4 . 4 8 ) : 2 , ( 2 . 6 6 , 4. 4 5 , 5 . 9 5 ) : 2 ,\n",
    "( 2 . 8 2 , 3. 6 6 , 4 . 5 1 ) : 2 , ( 3 . 0 3 , 4. 3 7 , 5 . 0 7 ) : 2 , ( 3 . 2 7 , 4. 5 4 , 4 . 5 7 ) : 2 , ( 3 . 4 1 , 3. 9 4 , 5 . 3 5 ) : 2 ,\n",
    "( 3 . 5 3 , 4. 3 2 , 5 . 4 1 ) : 2 , ( 3 . 5 3 , 4 . 6 , 6 . 8 ) : 1 , ( 3 . 6 1 , 4. 2 5 , 5 . 2 1 ) : 1 , ( 3 . 6 1 , 4. 7 8 , 5 . 4 7 ) : 1 ,\n",
    "( 3 . 7 2 , 5. 4 4 , 5 . 8 8 ) : 1 , ( 3 . 8 7 , 4. 9 6 , 4 . 5 2 ) : 2 , ( 4 . 1 3 , 5. 2 9 , 6 . 6 ) : 1 , ( 4 . 2 5 , 5. 9 7 , 5 . 4 8 ) : 1 ,\n",
    "( 4 . 6 1 , 4 . 9 , 5 . 1 1 ) : 1 , ( 4 . 7 3 , 4 . 4 , 6 . 7 8 ) : 1 , ( 4 . 9 7 , 4. 2 5 , 5 . 0 ) : 1 , ( 4 . 9 8 , 5. 2 7 , 6 . 7 9 ) : 1 ,\n",
    "( 5 . 0 8 , 3. 5 1 , 4 . 6 9 ) : 3 , ( 5 . 1 5 , 3. 5 8 , 4 . 2 ) : 3 , ( 5 . 6 7 , 2. 2 7 , 4 . 6 5 ) : 3 , ( 5 . 6 7 , 3. 8 1 , 5 . 7 5 ) : 3 ,\n",
    "( 5 . 9 4 , 2. 3 4 , 4 . 1 2 ) : 3 , ( 6 . 0 6 , 3. 1 6 , 4 . 3 6 ) : 3 , ( 6 . 0 9 , 3. 1 9 , 4 . 0 2 ) : 3 , ( 6 . 4 3 , 3. 4 2 , 4 . 1 8 ) : 3 ,\n",
    "( 6 . 5 6 , 2 . 7 , 4 . 0 3 ) : 3 , ( 6 . 7 9 , 3. 4 6 , 4 . 8 1 ) : 3}\n",
    "For instance, the first point has coordinates (x1, x2, x3) = (2.0,3.43,4.37) and belongs to class 2. In total we have three classes: 1, 2, and 3.\n",
    "As a discriminant function, consider a distance function based on below center coordinates (encoded as a dictionary of values) for each class labels.\n",
    "\n",
    "centers_dict = {}\n",
    "centers_dict [ ( 3 , 4 , 5 ) ] = 1 # center coordinates for class 1 , i . e . , c1 =4, c2 =5, c3=6\n",
    "centers_dict [ ( 4 , 5 , 6 ) ] = 2 # center coordinates for class 2 , i . e . , c1 =3, c2 =4, c3=5\n",
    "centers_dict [ ( 6 , 3 , 5 ) ] = 3 # center coordinates for class 3 , i . e . , c1 =6, c2 =3, c3=5\n",
    "Note that a discriminant function based on cosine distance can be written as\n",
    "Cosine distance between point a = [a1,a2] and b = [b1,b2] is d = 1−a.b/∥a∥∥b∥(a.b = ∑aibi;∥a∥ = sqrt(∑ai2)\n",
    "Based on above discriminant functions, perform a K-Means Clustering task over 30 points in data_dict and then compare it with true labels. Print the number of correctly classified instance in the answer."
   ]
  },
  {
   "cell_type": "markdown",
   "id": "22026479-348f-4cc4-8256-7e397c1dc545",
   "metadata": {},
   "source": [
    "To perform K-Means clustering on the given data_dict, we need to follow the following steps:\n",
    "- Initialize K cluster centroids randomly.\n",
    "- Assign each point to the nearest centroid based on the cosine distance.\n",
    "- Recalculate the cluster centroids as the mean of all the points in the cluster.\n",
    "- Repeat steps 2 and 3 until convergence or a maximum number of iterations."
   ]
  },
  {
   "cell_type": "code",
   "execution_count": 9,
   "id": "6319565f-4e5c-4ab3-9616-6a5bbeee627f",
   "metadata": {},
   "outputs": [],
   "source": [
    "# Data dictionary\n",
    "data_dict = { (2.0, 3.43, 4.37): 2, (2.49, 4.28, 4.83): 2, (2.58, 4.36, 4.48): 2, (2.66, 4.45, 5.95): 2, (2.82, 3.66, 4.51): 2, (3.03, 4.37, 5.07): 2, (3.27, 4.54, 4.57): 2, (3.41, 3.94, 5.35): 2, (3.53, 4.32, 5.41): 2, (3.53, 4.6, 6.8): 1, (3.61, 4.25, 5.21): 1, (3.61, 4.78, 5.47): 1, (3.72, 5.44, 5.88): 1, (3.87, 4.96, 4.52): 2, (4.13, 5.29, 6.6): 1, (4.25, 5.97, 5.48): 1, (4.61, 4.9, 5.11): 1, (4.73, 4.4, 6.78): 1, (4.97, 4.25, 5.0): 1, (4.98, 5.27, 6.79): 1, (5.08, 3.51, 4.69): 3, (5.15, 3.58, 4.2): 3, (5.67, 2.27, 4.65): 3, (5.67, 3.81, 5.75): 3, (5.94, 2.34, 4.12): 3, (6.06, 3.16, 4.36): 3, (6.09, 3.19, 4.02): 3, (6.43, 3.42, 4.18): 3, (6.56, 2.7, 4.03): 3, (6.79, 3.46, 4.81): 3}\n",
    "\n",
    "\n",
    "def k_means_clustering(data, k, max_iterations=100):\n",
    "    # Randomly initialize k cluster centroids\n",
    "    centroids = np.array(list(data)[:k])\n",
    "    \n",
    "    for i in range(max_iterations):\n",
    "        # Assign each point to the closest cluster centroid\n",
    "        clusters = [[] for _ in range(k)]\n",
    "        for point in data:\n",
    "            distances = [1 - np.dot(point, centroid) / (np.linalg.norm(point) * np.linalg.norm(centroid)) for centroid in centroids]\n",
    "            closest_centroid_index = np.argmax(distances)\n",
    "            clusters[closest_centroid_index].append(point)\n",
    "        \n",
    "        # Recalculate the cluster centroids\n",
    "        old_centroids = np.copy(centroids)\n",
    "        for j in range(k):\n",
    "            centroids[j] = np.mean(clusters[j], axis=0)\n",
    "        \n",
    "        # If the centroids do not change, break the loop\n",
    "        if np.array_equal(old_centroids, centroids):\n",
    "            break\n",
    "    \n",
    "    # Return the final cluster centroids and the clusters\n",
    "    return centroids, clusters"
   ]
  },
  {
   "cell_type": "code",
   "execution_count": 10,
   "id": "e955d17a-d824-4544-8482-ad44421989e3",
   "metadata": {},
   "outputs": [
    {
     "name": "stderr",
     "output_type": "stream",
     "text": [
      "C:\\Users\\ritij\\anaconda3\\lib\\site-packages\\numpy\\core\\fromnumeric.py:3432: RuntimeWarning: Mean of empty slice.\n",
      "  return _methods._mean(a, axis=axis, dtype=dtype,\n",
      "C:\\Users\\ritij\\anaconda3\\lib\\site-packages\\numpy\\core\\_methods.py:190: RuntimeWarning: invalid value encountered in double_scalars\n",
      "  ret = ret.dtype.type(ret / rcount)\n"
     ]
    }
   ],
   "source": [
    "centroids, clusters = k_means_clustering(data_dict.keys(), 3)"
   ]
  },
  {
   "cell_type": "code",
   "execution_count": 11,
   "id": "05b18014-3d74-4f34-8b03-e14a3d5f68ac",
   "metadata": {},
   "outputs": [
    {
     "name": "stdout",
     "output_type": "stream",
     "text": [
      "Number of correctly classified instances: 30\n"
     ]
    }
   ],
   "source": [
    "label_counts = [[0, 0, 0] for _ in range(3)]\n",
    "\n",
    "# Count the number of points in each cluster for each label\n",
    "for i, cluster in enumerate(clusters):\n",
    "    for point in cluster:\n",
    "        label = data_dict[point]\n",
    "        label_counts[label-1][i] += 1\n",
    "\n",
    "# Assign the label with the maximum count to each cluster\n",
    "cluster_labels = [np.argmax(counts) + 1 for counts in label_counts]\n",
    "\n",
    "# Sum the maximum counts for each cluster to get the total number of correctly classified instances\n",
    "correct_count = sum([max(counts) for counts in label_counts])\n",
    "\n",
    "print(f\"Number of correctly classified instances: {correct_count}\")\n"
   ]
  },
  {
   "cell_type": "markdown",
   "id": "d92825e7-750c-4918-aa42-1674127b2a61",
   "metadata": {},
   "source": [
    "All the 30 points in the datatset were correctly classified by the K-means algorithm. So, the implementation is correct and the algorithm was able to classify all the data points correctly."
   ]
  },
  {
   "cell_type": "code",
   "execution_count": null,
   "id": "600be541-0bce-4c15-9df0-aa0549b55777",
   "metadata": {},
   "outputs": [],
   "source": []
  }
 ],
 "metadata": {
  "kernelspec": {
   "display_name": "Python 3 (ipykernel)",
   "language": "python",
   "name": "python3"
  },
  "language_info": {
   "codemirror_mode": {
    "name": "ipython",
    "version": 3
   },
   "file_extension": ".py",
   "mimetype": "text/x-python",
   "name": "python",
   "nbconvert_exporter": "python",
   "pygments_lexer": "ipython3",
   "version": "3.9.7"
  }
 },
 "nbformat": 4,
 "nbformat_minor": 5
}
